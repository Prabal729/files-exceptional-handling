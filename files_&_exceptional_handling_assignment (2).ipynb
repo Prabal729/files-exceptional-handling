{
  "nbformat": 4,
  "nbformat_minor": 0,
  "metadata": {
    "colab": {
      "provenance": []
    },
    "kernelspec": {
      "name": "python3",
      "display_name": "Python 3"
    },
    "language_info": {
      "name": "python"
    }
  },
  "cells": [
    {
      "cell_type": "markdown",
      "source": [
        "### **Files & exceptional handling assignment**\n",
        "1. What is the difference between interpreted and compiled languages ?\n",
        "-> In case of compiler language the program first convert into byte code and it converts to binary format which understable by machine. In case of interpreted language there is no stage to conversion of byte code , it directly understable bt machine line by line.\n",
        "2. What is exception handling in Python ?\n",
        "-> Exception handling is an event which occure during code execution , while the code stopped suddenly due to some reason is called Exception handling.\n",
        "3. What is the purpose of the finally block in exception handling ?\n",
        "-> The finally block in exception handling is used to specify code that will always be executed, regardless of whether an exception was raised or not. It's typically used for cleanup operations, such as closing files or releasing resources,ensuring they are performed even if an error occurs.\n",
        "4. What is logging in Python?\n",
        "-> Logging is a concept in python which is widely used to make sure the code is on the right track and find the root casue of defect as well.\n",
        "5. What is the significance of the __del__ method in Python ?\n",
        "-> The __del__ method is a destructor. It's called when an object is about to be garbage collected. It's used for cleanup operations, like releasing external resources. However, its usage is generally discouraged due to unpredictable timing and potential issues.\n",
        "6. What is the difference between import and from ... import in Python?\n",
        "-> import module: Imports the entire module, and you access its members using module.member and from module import member: Imports specific members directly into the current namespace, allowing you to use them without the module prefix.\n",
        "7.  How can you handle multiple exceptions in Python?\n",
        "->  Writing mutilple except block or in a single except block writing multple exception we can handle multiple exception.\n",
        "8. What is the purpose of the with statement when handling files in Python?\n",
        "-> The with statement ensures proper resource management, particularly for files. It automatically closes the file after the block of code within the with statement finishes, even if exceptions occur.\n",
        "9. What is the difference between multithreading and multiprocessing?\n",
        "-> Multithreading is multiple threads within a single process, sharing the same memory space. Limited by the GIL in CPython for CPU bound operations. Multiprocessing is multiple independent processes, each with its own memory space. Bypasses the GIL, allowing for true parallelism.\n",
        "10.  What are the advantages of using logging in a program ?\n",
        "-> The advantage of using logging in a program to make sure the code is on the right track and find the root casue of defect as well.\n",
        "11. What is memory management in Python ?\n",
        "-> Managing the memory for programing in python memory management\n",
        "12. What are the basic steps involved in exception handling in Python ?\n",
        "-> There will be two blocks try and except . Where as we write the abnormal statement under try block and deal with the abnormal line of code in except block\n",
        "13. Why is memory management important in Python ?\n",
        "-> Memeory management is very impoortant in python , because proper mamory managemeent cause a good computation speed , good allocation of memory.\n",
        "14. What is the role of try and except in exception handling?\n",
        "-> The role of try block is to write abnormal statements there and under except block we write the specific exception to handle the abnormal statement.\n",
        "15. How does Python's garbage collection system work ?\n",
        "-> Python primarily uses automatic reference counting. When an object's reference count drops to zero, it's immediately deallocated and it also employs a cyclic garbage collector to detect and break reference cycles (objects referencing each other, preventing reference counts from reaching zero).\n",
        "16. What is the purpose of the else block in exception handling?\n",
        "-> The else block in a try...except...else statement executes only if no exceptions are raised in the try block. It's used for code that should run when the try block succeeds.\n",
        "17. What are the common logging levels in Python?\n",
        "-> DEBUG: Detailed information, typically for debugging.\n",
        "  INFO: General information about program execution.\n",
        "  WARNING: Indicates a potential issue.\n",
        "  ERROR: Signals a significant problem.\n",
        "  CRITICAL: Denotes a severe error that may lead to program termination.\n",
        "18. What is the difference between os.fork() and multiprocessing in Python ?\n",
        "-> os.fork(): Creates a new process by duplicating the existing one (process forking), sharing memory (on unix like systems). It's low-level and platform-specific (mostly Unix-like systems).\n",
        "  multiprocessing: Provides a higher-level interface for creating and managing processes. It avoids shared memory issues by creating independent processes, and works cross-platform.\n",
        "19. What is the importance of closing a file in Python?\n",
        "-> The importance of closing a file is if we not close the file firstly the output is not visible ono the file and secondly the file can be corrupted .\n",
        "20. What is the difference between file.read() and file.readline() in Python ?\n",
        "-> The difference between file.read() and file.readline() in Python is file.read() will show the whole content of the file as in output, but in case of file.readline() only the first line of the content will be visible in the output\n",
        "21. What is the logging module in Python used for ?\n",
        "-> Logging module in python used to go logging for python code.\n",
        "22. What is the os module in Python used for in file handling ?\n",
        "-> We have to import os module in file handling while we need to create a directory or access a directory etc.\n",
        "23. What are the challenges associated with memory management in Python ?\n",
        "-> The challenges associated with memory management are Garbage Collection Overhead,Memory Leaks,Large Data Structures and Global Interpreter Lock (GIL).\n",
        "24. How do you raise an exception manually in Python ?\n",
        "-> The use of the raise keyword followed by an exception class or instance.\n",
        "25. Why is it important to use multithreading in certain applications?\n",
        "-> Multithreading is important because Concurrency,Task Separation,\n",
        "Responsiveness and Improved Performance."
      ],
      "metadata": {
        "id": "YlMf_mQpWwkW"
      }
    },
    {
      "cell_type": "code",
      "execution_count": null,
      "metadata": {
        "id": "ENRHB06GWLf9"
      },
      "outputs": [],
      "source": []
    },
    {
      "cell_type": "markdown",
      "source": [
        "1.  How can you open a file for writing in Python and write a string to it"
      ],
      "metadata": {
        "id": "iZr3-C2_lPUq"
      }
    },
    {
      "cell_type": "code",
      "source": [
        "file=open(\"new.txt\",'w')\n",
        "file.write(\"Hello world\")\n",
        "file.close()"
      ],
      "metadata": {
        "id": "7dFLsF1ElSh_"
      },
      "execution_count": 39,
      "outputs": []
    },
    {
      "cell_type": "markdown",
      "source": [
        "2. Write a Python program to read the contents of a file and print each line"
      ],
      "metadata": {
        "id": "Z1S4RGn7lSvO"
      }
    },
    {
      "cell_type": "code",
      "source": [
        "file=open(\"new.txt\",'r')\n",
        "for i in file:\n",
        "  print(i)\n",
        "file.close()"
      ],
      "metadata": {
        "colab": {
          "base_uri": "https://localhost:8080/"
        },
        "id": "hQd_iiYWl991",
        "outputId": "60985cc4-bdac-40e1-b1f1-af1fa304f290"
      },
      "execution_count": 40,
      "outputs": [
        {
          "output_type": "stream",
          "name": "stdout",
          "text": [
            "Hello world\n"
          ]
        }
      ]
    },
    {
      "cell_type": "markdown",
      "source": [
        "3. How would you handle a case where the file doesn't exist while trying to open it for reading"
      ],
      "metadata": {
        "id": "SxWKt5H2l-Ia"
      }
    },
    {
      "cell_type": "code",
      "source": [
        "try:\n",
        "  file=open(\"new1.txt\",'r')\n",
        "except Exception as e:\n",
        "  print(e)\n",
        "finally:\n",
        "  file.close()"
      ],
      "metadata": {
        "id": "4G1XPFo-mA7U"
      },
      "execution_count": 41,
      "outputs": []
    },
    {
      "cell_type": "markdown",
      "source": [
        "4. Write a Python script that reads from one file and writes its content to another file."
      ],
      "metadata": {
        "id": "OuoJ_9BdmBH2"
      }
    },
    {
      "cell_type": "code",
      "source": [
        "file1=open(\"new.txt\",'r')\n",
        "file2=open(\"new1.txt\",'w')\n",
        "for i in file1:\n",
        "  file2.write(i)\n",
        "file1.close()\n",
        "file2.close()"
      ],
      "metadata": {
        "id": "ki23d-WZmE_f"
      },
      "execution_count": 42,
      "outputs": []
    },
    {
      "cell_type": "code",
      "source": [
        "file2=open(\"new1.txt\",'r')\n",
        "for i in file2:\n",
        "  print(i)\n",
        "file2.close()"
      ],
      "metadata": {
        "colab": {
          "base_uri": "https://localhost:8080/"
        },
        "id": "RWLlbvYhAwA4",
        "outputId": "9f0e3a23-f5d7-4a41-fa6d-89c2bef1f1eb"
      },
      "execution_count": 43,
      "outputs": [
        {
          "output_type": "stream",
          "name": "stdout",
          "text": [
            "Hello world\n"
          ]
        }
      ]
    },
    {
      "cell_type": "markdown",
      "source": [
        "5.  How would you catch and handle division by zero error in Python"
      ],
      "metadata": {
        "id": "e9mSfeftmFN7"
      }
    },
    {
      "cell_type": "code",
      "source": [
        "try:\n",
        "  10/0\n",
        "except Exception as e:\n",
        "  print(e)\n",
        "except ZeroDivisionError as e:\n",
        "  print(e)"
      ],
      "metadata": {
        "colab": {
          "base_uri": "https://localhost:8080/"
        },
        "id": "LMttvPiQmJhY",
        "outputId": "f16ac51c-0c18-40c0-eb3c-0bcde20485c4"
      },
      "execution_count": 44,
      "outputs": [
        {
          "output_type": "stream",
          "name": "stdout",
          "text": [
            "division by zero\n"
          ]
        }
      ]
    },
    {
      "cell_type": "markdown",
      "source": [
        "6. Write a Python program that logs an error message to a log file when a division by zero exception occurs"
      ],
      "metadata": {
        "id": "Rzd00GlWmJrF"
      }
    },
    {
      "cell_type": "code",
      "source": [
        "import logging\n",
        "\n",
        "def division_with_logging(a, b):\n",
        "    try:\n",
        "        result = a / b\n",
        "        return result\n",
        "    except ZeroDivisionError:\n",
        "        logging.basicConfig(filename='error.log', level=logging.ERROR, format='%(asctime)s - %(levelname)s - %(message)s')\n",
        "        logging.error(\"Division by zero occurred.\")\n",
        "        return None\n"
      ],
      "metadata": {
        "id": "HNR7qDv8mMlH"
      },
      "execution_count": 45,
      "outputs": []
    },
    {
      "cell_type": "code",
      "source": [
        "division_with_logging(10, 0)"
      ],
      "metadata": {
        "colab": {
          "base_uri": "https://localhost:8080/"
        },
        "id": "jhuhE_lrBd0o",
        "outputId": "a49cf1e9-0852-47e6-c8a5-430a1d6e61c6"
      },
      "execution_count": 46,
      "outputs": [
        {
          "output_type": "stream",
          "name": "stderr",
          "text": [
            "ERROR:root:Division by zero occurred.\n"
          ]
        }
      ]
    },
    {
      "cell_type": "markdown",
      "source": [
        "7.  How do you log information at different levels (INFO, ERROR, WARNING) in Python using the logging module."
      ],
      "metadata": {
        "id": "hJ5eBU7CmMzH"
      }
    },
    {
      "cell_type": "code",
      "source": [
        "import logging\n",
        "\n",
        "logging.basicConfig(filename='log_file.log', level=logging.INFO)\n",
        "\n",
        "logging.info(\"This is an informational message.\")\n",
        "logging.error(\"This is an error message.\")\n",
        "logging.warning(\"This is a warning message.\")"
      ],
      "metadata": {
        "colab": {
          "base_uri": "https://localhost:8080/"
        },
        "id": "kQuGetOxmp8Z",
        "outputId": "748030b5-50f3-493f-b547-0dce017d85c0"
      },
      "execution_count": 47,
      "outputs": [
        {
          "output_type": "stream",
          "name": "stderr",
          "text": [
            "ERROR:root:This is an error message.\n",
            "WARNING:root:This is a warning message.\n"
          ]
        }
      ]
    },
    {
      "cell_type": "markdown",
      "source": [
        "8. Write a program to handle a file opening error using exception handling."
      ],
      "metadata": {
        "id": "u5awlaAJmqM2"
      }
    },
    {
      "cell_type": "code",
      "source": [
        "try :\n",
        "  file=open(\"new6.txt\",'r')\n",
        "except Exception as e:\n",
        "  print(e)\n",
        "except FileNotFoundError as e:\n",
        "  print(e)\n",
        "finally:\n",
        "  file.close()"
      ],
      "metadata": {
        "colab": {
          "base_uri": "https://localhost:8080/"
        },
        "id": "XDgBJjqdmt7_",
        "outputId": "bd5a0893-645d-4f4d-8163-23c650518e34"
      },
      "execution_count": 48,
      "outputs": [
        {
          "output_type": "stream",
          "name": "stdout",
          "text": [
            "[Errno 2] No such file or directory: 'new6.txt'\n"
          ]
        }
      ]
    },
    {
      "cell_type": "markdown",
      "source": [
        "9. How can you read a file line by line and store its content in a list in Python."
      ],
      "metadata": {
        "id": "1_7Ee0X3muJ2"
      }
    },
    {
      "cell_type": "code",
      "source": [
        "list =[]\n",
        "file = open(\"new.txt\",'r')\n",
        "for i in file:\n",
        "  list.append(i)\n",
        "file.close()"
      ],
      "metadata": {
        "id": "3dMHdc_Emyx5"
      },
      "execution_count": 49,
      "outputs": []
    },
    {
      "cell_type": "code",
      "source": [
        "print(list)"
      ],
      "metadata": {
        "colab": {
          "base_uri": "https://localhost:8080/"
        },
        "id": "5RQBAZ-dCVSc",
        "outputId": "8dd45d4d-5355-49f0-8ce5-8934a5f0422d"
      },
      "execution_count": 50,
      "outputs": [
        {
          "output_type": "stream",
          "name": "stdout",
          "text": [
            "['Hello world']\n"
          ]
        }
      ]
    },
    {
      "cell_type": "markdown",
      "source": [
        "10.  How can you append data to an existing file in Python."
      ],
      "metadata": {
        "id": "FPbwQtrJmzIS"
      }
    },
    {
      "cell_type": "code",
      "source": [
        "file=open(\"new.txt\",'a')\n",
        "file.write(\"\\n this is second line\")\n",
        "file.close()\n"
      ],
      "metadata": {
        "id": "8y32s_nxoV22"
      },
      "execution_count": 51,
      "outputs": []
    },
    {
      "cell_type": "code",
      "source": [
        "file=open(\"new.txt\",'r')\n",
        "for i in file:\n",
        "  print(i)\n",
        "file.close()"
      ],
      "metadata": {
        "colab": {
          "base_uri": "https://localhost:8080/"
        },
        "id": "s73h2aWKCvfK",
        "outputId": "3dc14d25-dcdc-4694-df34-45ed8a9633f7"
      },
      "execution_count": 52,
      "outputs": [
        {
          "output_type": "stream",
          "name": "stdout",
          "text": [
            "Hello world\n",
            "\n",
            " this is second line\n"
          ]
        }
      ]
    },
    {
      "cell_type": "markdown",
      "source": [
        "11. Write a Python program that uses a try-except block to handle an error when attempting to access a dictionary key that doesn't exist."
      ],
      "metadata": {
        "id": "awx2q__QoWEC"
      }
    },
    {
      "cell_type": "code",
      "source": [
        "dic={\"namne\":\"Prabal\",\"age\":23}"
      ],
      "metadata": {
        "id": "qYzOH0EgLNZt"
      },
      "execution_count": 53,
      "outputs": []
    },
    {
      "cell_type": "code",
      "source": [
        "try:\n",
        "  dic[\"degree\"]\n",
        "except Exception as e:\n",
        "  print(e)\n",
        "except KeyError as e:\n",
        "  print(e)"
      ],
      "metadata": {
        "colab": {
          "base_uri": "https://localhost:8080/"
        },
        "id": "Q-BNWW3Iociw",
        "outputId": "b684faa5-2eca-45fc-eae9-a5c76c221149"
      },
      "execution_count": 55,
      "outputs": [
        {
          "output_type": "stream",
          "name": "stdout",
          "text": [
            "'degree'\n"
          ]
        }
      ]
    },
    {
      "cell_type": "markdown",
      "source": [
        "12. Write a program that demonstrates using multiple except blocks to handle different types of exceptions\n"
      ],
      "metadata": {
        "id": "GjbmoIx1oc0N"
      }
    },
    {
      "cell_type": "code",
      "source": [
        "def handle_multiple_exceptions():\n",
        "    try:\n",
        "\n",
        "        result = 10 / 0  # ZeroDivisionError\n",
        "        my_list[5]       # IndexError\n",
        "        int(\"abc\")        # ValueError\n",
        "    except ZeroDivisionError:\n",
        "        print(\"Error: Division by zero occurred.\")\n",
        "    except IndexError:\n",
        "        print(\"Error: List index out of range.\")\n",
        "    except ValueError:\n",
        "        print(\"Error: Invalid value conversion.\")\n",
        "    except Exception as e:  # Catch-all for other exceptions\n",
        "        print(f\"An unexpected error occurred: {e}\")\n",
        "\n",
        "handle_multiple_exceptions()\n"
      ],
      "metadata": {
        "colab": {
          "base_uri": "https://localhost:8080/"
        },
        "id": "HbLuR8YuojQb",
        "outputId": "51ce80e7-61dd-4ebf-bc94-6fcf513778aa"
      },
      "execution_count": 81,
      "outputs": [
        {
          "output_type": "stream",
          "name": "stdout",
          "text": [
            "Error: Division by zero occurred.\n"
          ]
        }
      ]
    },
    {
      "cell_type": "markdown",
      "source": [
        "13. How would you check if a file exists before attempting to read it in Python"
      ],
      "metadata": {
        "id": "bLeP_pvkojiD"
      }
    },
    {
      "cell_type": "code",
      "source": [
        "import os\n",
        "\n",
        "def read_file_if_exists(filename):\n",
        "  if os.path.exists(filename):\n",
        "    try:\n",
        "      with open(filename, 'r') as file:\n",
        "        contents = file.read()\n",
        "        print(contents)\n",
        "    except Exception as e:\n",
        "      print(f\"An error occurred while reading the file: {e}\")\n",
        "  else:\n",
        "    print(f\"The file '{filename}' does not exist.\")\n",
        "\n",
        "\n",
        "read_file_if_exists(\"new.txt\")\n",
        "read_file_if_exists(\"nonexistent_file.txt\")\n"
      ],
      "metadata": {
        "colab": {
          "base_uri": "https://localhost:8080/"
        },
        "id": "IZJTMWSp-q-s",
        "outputId": "fa512ac6-29a7-4a98-f3f8-5fab619587c1"
      },
      "execution_count": 82,
      "outputs": [
        {
          "output_type": "stream",
          "name": "stdout",
          "text": [
            "Hello world\n",
            " this is second line\n",
            "The file 'nonexistent_file.txt' does not exist.\n"
          ]
        }
      ]
    },
    {
      "cell_type": "markdown",
      "source": [
        "14. Write a program that uses the logging module to log both informational and error messages"
      ],
      "metadata": {
        "id": "1nbF4uYq-rIt"
      }
    },
    {
      "cell_type": "code",
      "source": [
        "import logging\n",
        "\n",
        "def my_function():\n",
        "  logging.basicConfig(filename='my_program.log', level=logging.INFO,\n",
        "                      format='%(asctime)s - %(levelname)s - %(message)s')\n",
        "  logging.info('This is an informational message.')\n",
        "\n",
        "  try:\n",
        "    1 / 0\n",
        "  except ZeroDivisionError:\n",
        "    logging.error('Division by zero occurred.')\n",
        "\n",
        "my_function()\n"
      ],
      "metadata": {
        "colab": {
          "base_uri": "https://localhost:8080/"
        },
        "id": "DX8XAvMsV_bS",
        "outputId": "9bc78144-afca-4796-ee37-2cdcbc453025"
      },
      "execution_count": 57,
      "outputs": [
        {
          "output_type": "stream",
          "name": "stderr",
          "text": [
            "ERROR:root:Division by zero occurred.\n"
          ]
        }
      ]
    },
    {
      "cell_type": "code",
      "source": [
        "import logging\n",
        "\n",
        "logging.basicConfig(filename='log_file_1.log', level=logging.INFO)\n",
        "\n",
        "logging.info(\"This is an informational message.\")\n",
        "logging.error(\"This is an error message.\")\n",
        "logging.warning(\"This is a warning message.\")"
      ],
      "metadata": {
        "id": "ism8L7b6-w8n"
      },
      "execution_count": null,
      "outputs": []
    },
    {
      "cell_type": "markdown",
      "source": [
        "15. Write a Python program that prints the content of a file and handles the case when the file is empty"
      ],
      "metadata": {
        "id": "TmB1fd6B-xKt"
      }
    },
    {
      "cell_type": "code",
      "source": [
        "def print_file_content(filename):\n",
        "    try:\n",
        "        with open(filename, 'r') as file:\n",
        "            contents = file.read()\n",
        "            if not contents:\n",
        "                print(\"The file is empty.\")\n",
        "            else:\n",
        "                print(contents)\n",
        "    except FileNotFoundError:\n",
        "        print(f\"Error: File '{filename}' not found.\")\n",
        "    except Exception as e:\n",
        "        print(f\"An error occurred: {e}\")\n",
        "\n",
        "# Example usage\n",
        "print_file_content(\"ok.txt\")"
      ],
      "metadata": {
        "colab": {
          "base_uri": "https://localhost:8080/"
        },
        "id": "HlfMlfwdYwbs",
        "outputId": "ffa0b5e0-b570-484e-b357-7e39f0056a91"
      },
      "execution_count": 68,
      "outputs": [
        {
          "output_type": "stream",
          "name": "stdout",
          "text": [
            "The file is empty.\n"
          ]
        }
      ]
    },
    {
      "cell_type": "markdown",
      "source": [
        "16. Demonstrate how to use memory profiling to check the memory usage of a small program."
      ],
      "metadata": {
        "id": "7LePB53g-0-f"
      }
    },
    {
      "cell_type": "code",
      "source": [
        "!pip install memory_profiler\n",
        "%load_ext memory_profiler\n",
        "\n",
        "# Example function to profile\n",
        "def my_memory_intensive_function():\n",
        "    a = [1] * (10 ** 6)\n",
        "    b = [2] * (2 * 10 ** 7)\n",
        "    del b\n",
        "    return a\n",
        "\n",
        "%memit my_memory_intensive_function()\n"
      ],
      "metadata": {
        "colab": {
          "base_uri": "https://localhost:8080/"
        },
        "id": "Ig5_ztWv-4gZ",
        "outputId": "3cef621e-5886-407d-9c0e-9f464355e9d4"
      },
      "execution_count": 69,
      "outputs": [
        {
          "output_type": "stream",
          "name": "stdout",
          "text": [
            "Collecting memory_profiler\n",
            "  Downloading memory_profiler-0.61.0-py3-none-any.whl.metadata (20 kB)\n",
            "Requirement already satisfied: psutil in /usr/local/lib/python3.11/dist-packages (from memory_profiler) (5.9.5)\n",
            "Downloading memory_profiler-0.61.0-py3-none-any.whl (31 kB)\n",
            "Installing collected packages: memory_profiler\n",
            "Successfully installed memory_profiler-0.61.0\n",
            "peak memory: 447.20 MiB, increment: 160.31 MiB\n"
          ]
        }
      ]
    },
    {
      "cell_type": "markdown",
      "source": [
        "17. Write a Python program to create and write a list of numbers to a file, one number per line"
      ],
      "metadata": {
        "id": "YekE9IIF-4tm"
      }
    },
    {
      "cell_type": "code",
      "source": [
        "def write_numbers_to_file(numbers, filename):\n",
        "    try:\n",
        "        with open(filename, 'w') as file:\n",
        "            for number in numbers:\n",
        "                file.write(str(number) + '\\n')\n",
        "        print(f\"Numbers successfully written to '{filename}'\")\n",
        "    except Exception as e:\n",
        "        print(f\"An error occurred: {e}\")\n"
      ],
      "metadata": {
        "id": "F46FL89V-60F"
      },
      "execution_count": 71,
      "outputs": []
    },
    {
      "cell_type": "code",
      "source": [
        "numbers = [10, 20, 30, 40, 50]\n",
        "filename = \"numbers.txt\"\n",
        "write_numbers_to_file(numbers, filename)\n"
      ],
      "metadata": {
        "colab": {
          "base_uri": "https://localhost:8080/"
        },
        "id": "RW1Tp9zhaMW8",
        "outputId": "b5c9e645-94da-4754-c2e3-12ce442ef9c4"
      },
      "execution_count": 72,
      "outputs": [
        {
          "output_type": "stream",
          "name": "stdout",
          "text": [
            "Numbers successfully written to 'numbers.txt'\n"
          ]
        }
      ]
    },
    {
      "cell_type": "markdown",
      "source": [
        "18.  How would you implement a basic logging setup that logs to a file with rotation after 1MB."
      ],
      "metadata": {
        "id": "8-UlV3Ql-7HZ"
      }
    },
    {
      "cell_type": "code",
      "source": [
        "import logging\n",
        "from logging.handlers import RotatingFileHandler\n",
        "\n",
        "def setup_logging(log_file):\n",
        "    logger = logging.getLogger(__name__)\n",
        "    logger.setLevel(logging.INFO)\n",
        "\n",
        "\n",
        "    handler = RotatingFileHandler(log_file, maxBytes=1024*1024, backupCount=5)\n",
        "    formatter = logging.Formatter('%(asctime)s - %(levelname)s - %(message)s')\n",
        "    handler.setFormatter(formatter)\n",
        "\n",
        "\n",
        "    logger.addHandler(handler)\n",
        "    return logger\n",
        "\n",
        "\n",
        "logger = setup_logging('my_app.log')\n",
        "\n",
        "logger.info(\"This is an informational message.\")\n",
        "logger.error(\"This is an error message.\")\n"
      ],
      "metadata": {
        "colab": {
          "base_uri": "https://localhost:8080/"
        },
        "id": "CdHJwUFmbTrD",
        "outputId": "41de0d56-44ac-4007-d650-619d22acdc22"
      },
      "execution_count": 73,
      "outputs": [
        {
          "output_type": "stream",
          "name": "stderr",
          "text": [
            "INFO:__main__:This is an informational message.\n",
            "ERROR:__main__:This is an error message.\n"
          ]
        }
      ]
    },
    {
      "cell_type": "markdown",
      "source": [
        "19. Write a program that handles both IndexError and KeyError using a try-except block"
      ],
      "metadata": {
        "id": "qETPhBiB--Ud"
      }
    },
    {
      "cell_type": "code",
      "source": [
        "def handle_index_key_errors(data_structure, index_or_key):\n",
        "    try:\n",
        "        value = data_structure[index_or_key]\n",
        "        print(f\"Value at index/key {index_or_key}: {value}\")\n",
        "    except IndexError:\n",
        "        print(\"IndexError: Index out of range.\")\n",
        "    except KeyError:\n",
        "        print(\"KeyError: Key not found in the dictionary.\")\n",
        "    except Exception as e:\n",
        "        print(f\"An unexpected error occurred: {e}\")\n",
        "\n",
        "\n",
        "my_list = [1, 2, 3]\n",
        "handle_index_key_errors(my_list, 2)\n",
        "handle_index_key_errors(my_list, 5)\n",
        "\n",
        "my_dict = {\"a\": 1, \"b\": 2}\n",
        "handle_index_key_errors(my_dict, \"a\")\n",
        "handle_index_key_errors(my_dict, \"c\")\n"
      ],
      "metadata": {
        "colab": {
          "base_uri": "https://localhost:8080/"
        },
        "id": "mZIwBx6p_BL1",
        "outputId": "f4014273-56df-4473-e434-f27b57bbbd36"
      },
      "execution_count": 74,
      "outputs": [
        {
          "output_type": "stream",
          "name": "stdout",
          "text": [
            "Value at index/key 2: 3\n",
            "IndexError: Index out of range.\n",
            "Value at index/key a: 1\n",
            "KeyError: Key not found in the dictionary.\n"
          ]
        }
      ]
    },
    {
      "cell_type": "markdown",
      "source": [
        "20. How would you open a file and read its contents using a context manager in Python"
      ],
      "metadata": {
        "id": "c-Nn_kSM_Bdm"
      }
    },
    {
      "cell_type": "code",
      "source": [
        "def read_file_with_context_manager(filename):\n",
        "    try:\n",
        "        with open(filename, 'r') as file:\n",
        "            contents = file.read()\n",
        "            return contents\n",
        "    except FileNotFoundError:\n",
        "        print(f\"Error: File '{filename}' not found.\")\n",
        "        return None\n",
        "    except Exception as e:\n",
        "        print(f\"An error occurred: {e}\")\n",
        "        return None"
      ],
      "metadata": {
        "id": "cvz3z_tkb4rU"
      },
      "execution_count": 83,
      "outputs": []
    },
    {
      "cell_type": "markdown",
      "source": [
        "21. Write a Python program that reads a file and prints the number of occurrences of a specific word"
      ],
      "metadata": {
        "id": "L0yOjepQ_GLi"
      }
    },
    {
      "cell_type": "code",
      "source": [
        "def count_word_occurrences(filename, target_word):\n",
        "    \"\"\"Reads a file and counts the occurrences of a specific word.\n",
        "\n",
        "    Args:\n",
        "        filename: The path to the file.\n",
        "        target_word: The word to count.\n",
        "\n",
        "    Returns:\n",
        "        The number of times the target_word appears in the file, or -1 if the file\n",
        "        does not exist or an error occurs.\n",
        "    \"\"\"\n",
        "    try:\n",
        "        with open(filename, 'r') as file:\n",
        "            contents = file.read()\n",
        "            words = contents.lower().split()\n",
        "            count = words.count(target_word.lower())\n",
        "            return count\n",
        "    except FileNotFoundError:\n",
        "        print(f\"Error: File '{filename}' not found.\")\n",
        "        return -1\n",
        "    except Exception as e:\n",
        "        print(f\"An error occurred: {e}\")\n",
        "        return -1\n",
        "\n",
        "\n",
        "\n",
        "filename = \"your_file.txt\"\n",
        "target_word = \"python\"\n",
        "occurrences = count_word_occurrences(filename, target_word)\n",
        "\n",
        "if occurrences != -1:\n",
        "    print(f\"The word '{target_word}' appears {occurrences} times in the file.\")\n"
      ],
      "metadata": {
        "colab": {
          "base_uri": "https://localhost:8080/"
        },
        "id": "b4L3dACg_Iss",
        "outputId": "8dd6b2e2-ab78-493d-ca06-0af59539847c"
      },
      "execution_count": 76,
      "outputs": [
        {
          "output_type": "stream",
          "name": "stdout",
          "text": [
            "Error: File 'your_file.txt' not found.\n"
          ]
        }
      ]
    },
    {
      "cell_type": "markdown",
      "source": [
        "22.  How can you check if a file is empty before attempting to read its contents"
      ],
      "metadata": {
        "id": "MpfO5CT9_I62"
      }
    },
    {
      "cell_type": "code",
      "source": [
        "import os\n",
        "\n",
        "def read_non_empty_file(filename):\n",
        "    \"\"\"Reads a file if it exists and is not empty.\n",
        "\n",
        "    Args:\n",
        "        filename: The path to the file.\n",
        "\n",
        "    Returns:\n",
        "        The file contents as a string if the file exists and is not empty,\n",
        "        otherwise None.\n",
        "    \"\"\"\n",
        "    if os.path.exists(filename) and os.path.getsize(filename) > 0:\n",
        "        try:\n",
        "            with open(filename, 'r') as file:\n",
        "                return file.read()\n",
        "        except Exception as e:\n",
        "            print(f\"An error occurred while reading the file: {e}\")\n",
        "            return None\n",
        "    else:\n",
        "        print(f\"The file '{filename}' does not exist or is empty.\")\n",
        "        return None\n",
        "\n",
        "\n",
        "file_content = read_non_empty_file(\"my_file.txt\")\n",
        "if file_content:\n",
        "  file_content\n"
      ],
      "metadata": {
        "colab": {
          "base_uri": "https://localhost:8080/"
        },
        "id": "qTP21_8X_MK1",
        "outputId": "d8c3f7e2-93d3-4142-fd5d-b5ab76f05c21"
      },
      "execution_count": 79,
      "outputs": [
        {
          "output_type": "stream",
          "name": "stdout",
          "text": [
            "The file 'my_file.txt' does not exist or is empty.\n"
          ]
        }
      ]
    },
    {
      "cell_type": "markdown",
      "source": [
        "23. Write a Python program that writes to a log file when an error occurs during file handling."
      ],
      "metadata": {
        "id": "40yZlZnx_MV0"
      }
    },
    {
      "cell_type": "code",
      "source": [
        "import logging\n",
        "import os\n",
        "\n",
        "def file_operation_with_logging(filename):\n",
        "    try:\n",
        "        with open(filename, 'r') as file:\n",
        "            contents = file.read()\n",
        "\n",
        "            print(contents)\n",
        "    except FileNotFoundError:\n",
        "        logging.error(f\"File not found: {filename}\")\n",
        "    except PermissionError:\n",
        "        logging.error(f\"Permission denied for file: {filename}\")\n",
        "    except Exception as e:\n",
        "        logging.exception(f\"An unexpected error occurred: {e}\")\n",
        "\n",
        "\n",
        "logging.basicConfig(filename='file_handling_errors.log', level=logging.ERROR,\n",
        "                    format='%(asctime)s - %(levelname)s - %(message)s')\n",
        "\n",
        "\n",
        "file_operation_with_logging(\"non_existent_file.txt\")\n"
      ],
      "metadata": {
        "colab": {
          "base_uri": "https://localhost:8080/"
        },
        "id": "FTj8Xh8S_PHf",
        "outputId": "276258c8-f2ff-4270-faf8-95455bbe013c"
      },
      "execution_count": 80,
      "outputs": [
        {
          "output_type": "stream",
          "name": "stderr",
          "text": [
            "ERROR:root:File not found: non_existent_file.txt\n"
          ]
        }
      ]
    },
    {
      "cell_type": "code",
      "source": [],
      "metadata": {
        "id": "cMYr19jWcrIl"
      },
      "execution_count": null,
      "outputs": []
    }
  ]
}